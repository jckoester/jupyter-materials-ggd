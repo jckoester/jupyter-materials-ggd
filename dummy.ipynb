{
 "cells": [
  {
   "cell_type": "markdown",
   "id": "31991a1b-1aca-4982-b004-149ad5a2118b",
   "metadata": {},
   "source": [
    "# Dummy notebook\n",
    "This is an empty dummy notebook, just for testing the deployment mechanism."
   ]
  },
  {
   "cell_type": "code",
   "execution_count": null,
   "id": "25adbe2b-ae6b-48ee-9bf5-0dfaa005565d",
   "metadata": {},
   "outputs": [],
   "source": [
    "print(\"Hello world!\")"
   ]
  }
 ],
 "metadata": {
  "interpreter": {
   "hash": "2be5faf79681da6f2a61fdfdd5405d65d042280f7fba6178067603e3a2925119"
  },
  "kernelspec": {
   "display_name": "Python 3.10.0 64-bit",
   "name": "python3"
  },
  "language_info": {
   "codemirror_mode": {
    "name": "ipython",
    "version": 3
   },
   "file_extension": ".py",
   "mimetype": "text/x-python",
   "name": "python",
   "nbconvert_exporter": "python",
   "pygments_lexer": "ipython3",
   "version": "3.10.0"
  }
 },
 "nbformat": 4,
 "nbformat_minor": 5
}
