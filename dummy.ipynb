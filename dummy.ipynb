{
 "cells": [
  {
   "cell_type": "markdown",
   "id": "31991a1b-1aca-4982-b004-149ad5a2118b",
   "metadata": {},
   "source": [
    "# Dummy notebook\n",
    "This is an empty dummy notebook, just for testing the deployment mechanisms."
   ]
  },
  {
   "cell_type": "code",
   "execution_count": 2,
   "id": "25adbe2b-ae6b-48ee-9bf5-0dfaa005565d",
   "metadata": {},
   "outputs": [
    {
     "name": "stdout",
     "output_type": "stream",
     "text": [
      "Hello world!\n"
     ]
    }
   ],
   "source": [
    "print(\"Hello world!\")"
   ]
  }
 ],
 "metadata": {
  "kernelspec": {
   "display_name": "Chatterbot (Python 3.7)",
   "language": "python",
   "name": "chatterbot_py37"
  },
  "language_info": {
   "codemirror_mode": {
    "name": "ipython",
    "version": 3
   },
   "file_extension": ".py",
   "mimetype": "text/x-python",
   "name": "python",
   "nbconvert_exporter": "python",
   "pygments_lexer": "ipython3",
   "version": "3.7.10"
  }
 },
 "nbformat": 4,
 "nbformat_minor": 5
}
