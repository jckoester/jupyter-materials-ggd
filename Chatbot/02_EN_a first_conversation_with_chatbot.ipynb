{
 "cells": [
  {
   "cell_type": "markdown",
   "id": "cbd71e67-cae9-4f99-8dc8-749d5f9ce726",
   "metadata": {},
   "source": [
    "# A first conversation with a chatbot"
   ]
  },
  {
   "cell_type": "markdown",
   "id": "cdc10a29-150e-474a-b5fa-3b6e93dbb9fe",
   "metadata": {},
   "source": [
    "The start is the same as in the first example"
   ]
  },
  {
   "cell_type": "code",
   "execution_count": 2,
   "id": "29b5859c-d331-416d-909e-180261e342ce",
   "metadata": {},
   "outputs": [],
   "source": [
    "from chatterbot import ChatBot"
   ]
  },
  {
   "cell_type": "code",
   "execution_count": 4,
   "id": "f6efd57b-957a-4069-b4d1-fc32d6b580fd",
   "metadata": {},
   "outputs": [],
   "source": [
    "bot = ChatBot('MyFirstBot')"
   ]
  },
  {
   "cell_type": "markdown",
   "id": "e7e3f11d-caaf-4135-885c-ff9a794322ef",
   "metadata": {},
   "source": [
    "Train the Bot with a sample dialog:"
   ]
  },
  {
   "cell_type": "code",
   "execution_count": null,
   "id": "f7236e72-5329-46cd-af48-e04aec41602a",
   "metadata": {},
   "outputs": [],
   "source": [
    "from chatterbot.trainers import ListTrainer\n",
    "trainer = ListTrainer(bot)\n",
    "trainer.train([\n",
    "'Hi',\n",
    "'Hello',\n",
    "'I need help with my order',\n",
    "'Please let me know your order ID',\n",
    "'I have an issue.',\n",
    "'Please explain your concern.',\n",
    "'Can I change the ordered items?',\n",
    "'You can return the products and purchase new items in your next order.',\n",
    "'Thanks',\n",
    "'You’re welcome! Have a great day!'\n",
    "])"
   ]
  },
  {
   "cell_type": "markdown",
   "id": "8627f55a-701b-480a-8a87-ceca941197ed",
   "metadata": {},
   "source": [
    "Now we define a 'loop' to have the bot talk continuously:"
   ]
  },
  {
   "cell_type": "code",
   "execution_count": null,
   "id": "55c7f53a-de05-450a-9d21-3ef46f369b4d",
   "metadata": {},
   "outputs": [],
   "source": [
    "name=input(\"Enter Your Name: \")\n",
    "print(\"Welcome to the Bot Service! Let me know how can I help you?\")\n",
    "while True:\n",
    "    request=input(name+':')\n",
    "    if request=='Bye' or request =='bye':\n",
    "        print('Bot: Bye')\n",
    "        break\n",
    "    else:\n",
    "        response=bot.get_response(request)\n",
    "        print('Bot:',response)"
   ]
  },
  {
   "cell_type": "markdown",
   "id": "fa0ae216-cad1-4d88-be10-0c403f228d7d",
   "metadata": {},
   "source": [
    "The keyword 'Bye' will end the conversation. "
   ]
  }
 ],
 "metadata": {
  "kernelspec": {
   "display_name": "Chatterbot (Python 3.7)",
   "language": "python",
   "name": "chatterbot_py37"
  },
  "language_info": {
   "codemirror_mode": {
    "name": "ipython",
    "version": 3
   },
   "file_extension": ".py",
   "mimetype": "text/x-python",
   "name": "python",
   "nbconvert_exporter": "python",
   "pygments_lexer": "ipython3",
   "version": "3.7.10"
  }
 },
 "nbformat": 4,
 "nbformat_minor": 5
}
